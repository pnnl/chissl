{
 "cells": [
  {
   "cell_type": "code",
   "execution_count": 1,
   "metadata": {
    "collapsed": true
   },
   "outputs": [],
   "source": [
    "import pandas as pd\n",
    "import numpy as np\n",
    "\n",
    "import matplotlib.pyplot as plt\n",
    "%matplotlib inline\n",
    "\n",
    "from util import chissl_mongo as cm\n",
    "%load_ext autoreload\n",
    "%autoreload 2"
   ]
  },
  {
   "cell_type": "code",
   "execution_count": 2,
   "metadata": {
    "collapsed": true
   },
   "outputs": [],
   "source": [
    "import json\n",
    "\n",
    "path = '/Volumes/WatermelonMtn/SampleData/JFK_LAX_JFK.json'\n",
    "with open(path) as fp:\n",
    "    docs = json.load(fp)"
   ]
  },
  {
   "cell_type": "markdown",
   "metadata": {},
   "source": [
    "# Add flights to database"
   ]
  },
  {
   "cell_type": "code",
   "execution_count": 3,
   "metadata": {
    "collapsed": true
   },
   "outputs": [],
   "source": [
    "from util import chissl_mongo as cm\n",
    "\n",
    "chissl = cm.ChisslMongo()"
   ]
  },
  {
   "cell_type": "code",
   "execution_count": 4,
   "metadata": {},
   "outputs": [
    {
     "data": {
      "text/plain": [
       "<pymongo.results.InsertManyResult at 0x1a34b1e900>"
      ]
     },
     "execution_count": 4,
     "metadata": {},
     "output_type": "execute_result"
    }
   ],
   "source": [
    "chissl.create_collection('Flights', docs, drop=True)"
   ]
  },
  {
   "cell_type": "markdown",
   "metadata": {},
   "source": [
    "# Small dataset\n",
    "grab a month of flights leaving JFK\n",
    "\n",
    "```json\n",
    "{\"trajectory_properties.origin.value\":\"KJFK\",\n",
    " \"timestamps.0\": {\"$gte\": \"2016-09\",\n",
    "                  \"$lt\": \"2016-10\"}}\n",
    "```"
   ]
  },
  {
   "cell_type": "markdown",
   "metadata": {},
   "source": [
    "# Create a Flights application\n"
   ]
  },
  {
   "cell_type": "code",
   "execution_count": 5,
   "metadata": {},
   "outputs": [
    {
     "data": {
      "text/plain": [
       "{'_id': 'JFK-LAX on Map',\n",
       " 'collection': 'Flights',\n",
       " 'component': 'MapTrajectoryComponent',\n",
       " 'params': {},\n",
       " 'pipeline': 'util.applications.trajectories.pipeline',\n",
       " 'props': {'domain': {'x': [-158.0500030517578, -35.79999923706055],\n",
       "   'y': [14.199999809265137, 59.08333206176758]}}}"
      ]
     },
     "execution_count": 5,
     "metadata": {},
     "output_type": "execute_result"
    }
   ],
   "source": [
    "X = np.vstack([doc['coordinates'] for doc in docs])\n",
    "\n",
    "[xmin, ymin] = X.min(axis=0).tolist()\n",
    "[xmax, ymax] = X.max(axis=0).tolist()\n",
    "\n",
    "domain = {'x': [xmin, xmax],\n",
    "          'y': [ymin, ymax]}\n",
    "\n",
    "cm.ChisslMongo()\\\n",
    "    .create_application('JFK-LAX on Map',\n",
    "                        'Flights',\n",
    "                        'MapTrajectoryComponent',\n",
    "                        'util.applications.trajectories.pipeline',\n",
    "                        props={'domain': domain},\n",
    "                        drop=True)"
   ]
  },
  {
   "cell_type": "code",
   "execution_count": 6,
   "metadata": {},
   "outputs": [
    {
     "data": {
      "text/plain": [
       "{'_id': 'JFK-LAX landings',\n",
       " 'collection': 'Flights',\n",
       " 'component': 'TrajectoryComponent',\n",
       " 'params': {'geom__start': -10},\n",
       " 'pipeline': 'util.applications.trajectories.pipeline',\n",
       " 'props': {'domain': {'x': [-158.0500030517578, -35.79999923706055],\n",
       "   'y': [14.199999809265137, 59.08333206176758]}}}"
      ]
     },
     "execution_count": 6,
     "metadata": {},
     "output_type": "execute_result"
    }
   ],
   "source": [
    "X = np.vstack([doc['coordinates'] for doc in docs])\n",
    "\n",
    "[xmin, ymin] = X.min(axis=0).tolist()\n",
    "[xmax, ymax] = X.max(axis=0).tolist()\n",
    "\n",
    "domain = {'x': [xmin, xmax],\n",
    "          'y': [ymin, ymax]}\n",
    "\n",
    "cm.ChisslMongo()\\\n",
    "    .create_application('JFK-LAX landings',\n",
    "                        'Flights',\n",
    "                        'TrajectoryComponent',\n",
    "                        'util.applications.trajectories.pipeline',\n",
    "                        props={'domain': domain},\n",
    "                        params={'geom__start': -10},\n",
    "                        drop=True)"
   ]
  },
  {
   "cell_type": "code",
   "execution_count": 10,
   "metadata": {},
   "outputs": [
    {
     "name": "stdout",
     "output_type": "stream",
     "text": [
      "found 1004...OK\n"
     ]
    }
   ],
   "source": [
    "query = {\"trajectory_properties.origin.value\":\"KJFK\",\n",
    "         \"timestamps.0\": {\"$gte\": \"2016-09\",\n",
    "                          \"$lt\": \"2016-10\"}}\n",
    "\n",
    "cm.ChisslMongo()\\\n",
    "    .create_model('JFK-LAX landings',\n",
    "                        'Joseph test', query=query, drop=True);"
   ]
  },
  {
   "cell_type": "code",
   "execution_count": null,
   "metadata": {
    "collapsed": true
   },
   "outputs": [],
   "source": []
  }
 ],
 "metadata": {
  "kernelspec": {
   "display_name": "Python 3",
   "language": "python",
   "name": "python3"
  },
  "language_info": {
   "codemirror_mode": {
    "name": "ipython",
    "version": 3
   },
   "file_extension": ".py",
   "mimetype": "text/x-python",
   "name": "python",
   "nbconvert_exporter": "python",
   "pygments_lexer": "ipython3",
   "version": "3.7.3"
  }
 },
 "nbformat": 4,
 "nbformat_minor": 2
}
